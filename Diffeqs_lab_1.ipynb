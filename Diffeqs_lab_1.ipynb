{
  "cells": [
    {
      "cell_type": "markdown",
      "metadata": {
        "id": "OsZ3HJLLSt0O"
      },
      "source": [
        "# Лабораторная работа №1 «Численное решение дифференциальных уравнений»\n",
        "\n"
      ]
    },
    {
      "cell_type": "markdown",
      "metadata": {
        "id": "fAGi39ux-eL4"
      },
      "source": [
        "## Вступление"
      ]
    },
    {
      "cell_type": "markdown",
      "metadata": {
        "id": "hO8vUNz2TpIT"
      },
      "source": [
        "В первой лабораторной Вашей задачей будет изучить и реализовать различные методы для численного решения дифференциальных уравнений.\n",
        "\n",
        "Наверное, из курса физики Вы успели заметить, что дифференциальные уравнения появляются при описании явлений современного мира практически повсеместно, и практически никогда эти уравнения невозможно разрешить даже в квадратурах (выразив $y(x)$ через элементарные функции и интегралы от них).\n",
        "\n",
        "Однако, физическими задачами уже никого не удивить, а уравнение движения маятника Вам уже, наверное, набило оскомину. Да и складывающееся ощущение, что дифференциальные уравнения возникают только лишь в задачах естествознания, ошибочно. Чтобы показать это, в качестве задачи в данной лабораторной работе рассматривается интересный пример использования дифференциальных уравнений в задачах искусственного интеллекта. *Неожиданно?!* Давайте разбираться."
      ]
    },
    {
      "cell_type": "markdown",
      "metadata": {
        "id": "WZDoQ4jWuKbY"
      },
      "source": [
        "## Задание 1. Численное решение дифференциального уравнения первого порядка."
      ]
    },
    {
      "cell_type": "markdown",
      "metadata": {
        "id": "CpGs3DQvuTHK"
      },
      "source": [
        "Прежде чем приступить к интеллекту искусственному, применим интеллект естественный для реализации функций численного решения дифференциальных уравнений.\n"
      ]
    },
    {
      "cell_type": "markdown",
      "metadata": {
        "id": "HfCqVa1f_lK6"
      },
      "source": [
        "### Описание задачи"
      ]
    },
    {
      "cell_type": "markdown",
      "metadata": {
        "id": "ej_oy4uC_lgo"
      },
      "source": [
        "Так как дальше нам понадобится решать систему уравнений, то сразу будем решать задачу Коши\n",
        "$$\n",
        "\\begin{cases} x(t)' = f(t, x(t)),\\\\ x(t_0) = x_0 \\end{cases} \\quad \\text{где } x,x_0 \\in \\mathbb{R}^n, \\ t \\in [t_0,T].\n",
        "$$\n",
        "\n",
        "Рассмотрим два, наверное, самых распространенных метода:\n",
        "- Метод ломаных Эйлера,\n",
        "- Метод Рунге—Кутты."
      ]
    },
    {
      "cell_type": "markdown",
      "metadata": {
        "id": "AnDUr3_wUwpb"
      },
      "source": [
        "Импортируем необходимые нам далее библиотеки."
      ]
    },
    {
      "cell_type": "code",
      "execution_count": null,
      "metadata": {
        "id": "We4dnT90Uv7G"
      },
      "outputs": [],
      "source": [
        "import numpy as np\n",
        "import matplotlib.pyplot as plt"
      ]
    },
    {
      "cell_type": "markdown",
      "metadata": {
        "id": "KB4q7e2DFGXi"
      },
      "source": [
        "#### Метод ломаных Эйлера"
      ]
    },
    {
      "cell_type": "markdown",
      "metadata": {
        "id": "FjAwqkZxFNhJ"
      },
      "source": [
        "Метод Эйлера — это канонический и, честно говоря, простейший численный метод для решения дифференциальных уравнений. Мы будем искать приближение решения в виде ломаной. Для того, чтобы построить ломаную, нужно найти координаты ее вершин, этим и займемся.\n",
        "\n"
      ]
    },
    {
      "cell_type": "markdown",
      "metadata": {
        "id": "QTmnFY5JHQCM"
      },
      "source": [
        "##### Теоретические выкладки"
      ]
    },
    {
      "cell_type": "markdown",
      "metadata": {
        "id": "iB2WDBgWHYd7"
      },
      "source": [
        "Зададим на отрезке $[t_0, T]$ некоторое разбиение $\\big\\{t_m\\big\\}_{m=0}^M$.\n",
        "\n",
        "Пусть $\\varphi(t)$ — истинное решение. Разложим функцию$^*$ $\\varphi(t)$ по Тейлору в точке $t_k ,\\;  k \\in \\{0,1,\\dots,M-1\\}$:\n",
        "$$\n",
        "\\varphi(t) = \\varphi(t_k) + (t-t_k)\\cdot \\varphi'(t_k) + \\mathrm{\\overline o}\\left(t-t_k\\right).\n",
        "$$\n",
        "Подставим $t=t_{k+1}$:\n",
        "$$\n",
        "\\varphi(t_{k+1}) = \\varphi(t_k) + (t_{k+1}-t_k)\\cdot \\varphi'(t_k)  + \\mathrm{\\overline o}\\left(t_{k+1}-t_k \\right).\n",
        "$$\n",
        "Обозначим $h_k = t_{k+1} - t_k$ и обрубим наше разложение, отбросив о-малое. Тогда\n",
        "$$\n",
        "\\psi(t_{k+1}) = \\varphi(t_k) + h_k \\cdot \\varphi'(t_k)\n",
        "$$\n",
        "— приближенное значение $\\varphi(t_{k+1})$, $\\psi(t_0) = x_0$.\n",
        "\n",
        "Так как $\\varphi(t)$ — решение уравнения $x'=f(t,x)$, то $\\varphi'(t) = f(t, \\varphi(t))$, а значит\n",
        "$$\n",
        "\\psi(t_{k+1}) = \\varphi(t_k) + h_k \\cdot f(t_k, \\varphi(t_k)).\n",
        "$$\n",
        "Так как $\\psi(t_k)$ — приближенное значение $\\varphi (t_k)$, то, с некоторой потерей точности, в правой части можем заменить все $\\varphi(t_k)$ на $\\psi(t_k)$.\n",
        "\n",
        "Тогда получаем множество упорядоченных вершин ломаной Эйлера:\n",
        "$$\\boxed{\\psi(t_{k+1}) = \\psi(t_k) + h_k \\cdot f(t_k, \\psi(t_k)), \\quad \\psi(t_0) = x_0}$$\n",
        "\n",
        "Тогда для построения приближенного решения задачи Коши достаточно запустить вычисление вплоть до $\\psi(t_M)$.\n",
        "\n",
        "Более подробно, а именно: то, почему метод сходится, какая погрешность получается и т.д., обсуждалось на практических занятиях.\n",
        "\n",
        "<sub>* В случае, когда у нас система уравнений, то есть $x$ является вектором, просто проделываем данные рассуждения  покомпонентно.</sub>"
      ]
    },
    {
      "cell_type": "markdown",
      "metadata": {
        "id": "1ES5KnIbP6N5"
      },
      "source": [
        "##### Реализация метода"
      ]
    },
    {
      "cell_type": "markdown",
      "metadata": {
        "id": "HS1IzJfYQAYT"
      },
      "source": [
        "Реализуйте метод ломаных Эйлера для задачи Коши\n",
        "$$\n",
        "\\begin{cases}\n",
        "x'(t) = f(t, x(t)),\\\\\n",
        "x(t_0) = x_0,\\\\\n",
        "t\\in [t_0, T].\n",
        "\\end{cases}\n",
        "$$\n",
        "в функции `Euler_method`, принимающей в качестве аргументов:\n",
        "- `fun` — функция, задающая правую часть уравнения,\n",
        "- `t` — список с границами отрезка — список $[t_0, T]$,\n",
        "- `x_0` — вектор$_{(n\\times 1)}$ начального значения при $t=t_0$,\n",
        "- `dt` — величина $h_k$ (для простоты примем разбиение равномерным),\n",
        "- `args` — словарь с аргументами для функции `fun` (в Python можно передавать в аргументы функции словарь [с помощью оператора `**` перед словарем](https://stackoverflow.com/questions/334655/passing-a-dictionary-to-a-function-as-keyword-parameters)),\n",
        "\n",
        "и возвращающей список с первой координатой — массивом с точками разбиения $t_k$, а второй — массивом со значениями приближенного решения в этих точках."
      ]
    },
    {
      "cell_type": "code",
      "execution_count": null,
      "metadata": {
        "id": "wIcUwWtMKDwj"
      },
      "outputs": [],
      "source": [
        "'''\n",
        "Реализация метода ломаных Эйлера в функции Euler_method\n",
        "'''\n",
        "\n",
        "def Euler_method(fun, t, x_0, dt, args={}):\n",
        "    import numpy as np\n",
        "\n",
        "    t0, T = t\n",
        "    t_values = np.arange(t0, T + dt, dt)  # Ensure T is included\n",
        "    n_steps = len(t_values)\n",
        "    x_values = np.zeros((n_steps, len(x_0)))\n",
        "    x_values[0] = x_0\n",
        "\n",
        "    for k in range(n_steps - 1):\n",
        "        t_k = t_values[k]\n",
        "        x_k = x_values[k]\n",
        "        f_k = fun(t_k, x_k, **args)\n",
        "        x_values[k + 1] = x_k + dt * f_k\n",
        "\n",
        "    return t_values, x_values\n",
        "\n"
      ]
    },
    {
      "cell_type": "markdown",
      "metadata": {
        "id": "p-PiOF7_p7Uk"
      },
      "source": [
        "#### Метод Рунге-Кутты"
      ]
    },
    {
      "cell_type": "markdown",
      "metadata": {
        "id": "g2P4VJivmsg5"
      },
      "source": [
        "Теперь рассмотрим не столько геометрически понятный, но достаточно часто применяемый на практике метод Рунге—Кутты, ограничившись лишь вторым порядком последнего."
      ]
    },
    {
      "cell_type": "markdown",
      "metadata": {
        "id": "jTepnBMsp7Ul"
      },
      "source": [
        "##### Теоретические выкладки"
      ]
    },
    {
      "cell_type": "markdown",
      "metadata": {
        "id": "cxoc4OzCgaA8"
      },
      "source": [
        "Так как $\\varphi$ — решение исходной задачи Коши, то $\\varphi'(t) = f(t, \\varphi(t))$, а также\n",
        "$$\n",
        "\\varphi''(t) = \\frac{d}{d t} f(t, \\varphi(t)) = \\frac{\\partial f(t, \\varphi)}{\\partial t} + \\frac{\\partial f(t, \\varphi)}{\\partial \\varphi} \\frac{d\\varphi(t)}{dt}= \\frac{\\partial f(t, \\varphi)}{\\partial t} + \\frac{\\partial f(t, \\varphi)}{\\partial \\varphi} f(t,\\varphi(t)).\n",
        "$$\n",
        "\n",
        "Аналогично тому, что делали ранее, воспользуемся разложением Тейлора на отрезке в точке $t_k$ и подставим точку $t_{k+1}$:\n",
        "$$\n",
        "\\varphi(t_{k+1}) = \\varphi(t_k) + (t_{k+1}-t_k)\\cdot \\varphi'(t_k) + \\frac{1}{2}(t_{k+1}-t_k)^2\\cdot \\varphi''(t_k) + \\mathrm{\\overline o}\\left((t_{k+1}-t_k)^2\\right).\n",
        "$$\n",
        "Отбросим слагаемое с о-малым, тем самым переходя к приближению $\\psi$ функции $\\varphi$; подставим выражения для $\\varphi'$, $\\varphi''$. Получим\n",
        "$$\n",
        "\\psi(t_{k+1}) = \\psi(t_k) + (t_{k+1}-t_k)\\cdot f(t_k, \\psi(t_k)) + \\frac{1}{2}(t_{k+1}-t_k)^2\\cdot \\left.\\left(f'_t(t, \\psi) + f'_\\psi(t, \\psi) f(t,\\psi(t))\\right)\\right|_{(t_k, \\psi(t_k))}. \\tag{o}\n",
        "$$\n",
        "\n",
        "Запишем теперь разложение Тейлора функции двух переменных $f(t,\\psi)$ в точке $(t_k, \\psi(t_k))$ и подставим точку $\\big(t_{k}+\\alpha (t_{k+1} - t_k), \\psi(t_{k})+ \\alpha(t_{k+1}-t_k)f(t_k, \\psi(t_k))\\big)$, где $\\alpha > 0$ --- параметр метода,\n",
        "$$\n",
        "f\\big(t_{k}+\\alpha (t_{k+1} - t_k), \\psi(t_{k})+ \\alpha(t_{k+1}-t_k)f(t_k, \\psi(t_k))\\big) \\approx f(t_k, \\psi(t_k)) + \\alpha(t_{k+1}-t_k)f'_t(t_k, \\psi(t_k)) + \\alpha(t_{k+1} - t_k)  f(t_k, \\psi(t_k))f'_\\psi(t_k, \\psi(t_k)).\n",
        "$$\n",
        "\n",
        "Заметим, что это очень похоже на правую часть в выражении (o). Тогда, домножив на $\\frac{1}{2\\alpha} (t_{k+1}-t_k)$, получим\n",
        "$$\n",
        "\\psi(t_{k+1}) = \\psi(t_k) + \\left(1-\\frac{1}{2\\alpha}\\right) (t_{k+1}-t_k)\\cdot f(t_k, \\psi(t_k)) + \\frac{1}{2\\alpha}(t_{k+1} - t_k) f\\big(t_{k}+\\alpha (t_{k+1} - t_k), \\psi(t_{k})+ \\alpha(t_{k+1}-t_k)f(t_k, \\psi(t_k))\\big).\n",
        "$$\n",
        "\n",
        "Или, вводя обозначение длины шага $h_k = t_{k+1} - t_k$, получаем итерационную схему для метода Рунге—Кутты 2-ого порядка\n",
        "$$\n",
        "\\psi(t_{k+1}) = \\psi(t_k) + \\left(1-\\frac{1}{2\\alpha}\\right) h_k \\cdot \\underbrace{f(t_k, \\psi(t_k))}_{k_1} + \\frac{1}{2\\alpha} h_k \\cdot  \\underbrace{f\\big(t_{k}+\\alpha h_k, \\psi(t_{k})+ \\alpha h_k f(t_k, \\psi(t_k))\\big)}_{k_2},\n",
        "$$\n",
        "Переобозначив под более принятые обозначения, получим\n",
        "$$\n",
        "\\boxed{\n",
        "    \\begin{split}\n",
        "        &\\psi(t_{k+1}) = \\psi(t_k) + b_1 h_k k_1 + b_2 h_k k_2,\\\\\n",
        "        & k_1 = f(t_k, \\psi(t_k)), \\quad k_2 = f\\big(t_{k}+a_{21} h_k, \\psi(t_{k})+ a_{21} h_k f(t_k, \\psi(t_k))\\big),\\\\\n",
        "        & b_1, b_2 \\geqslant 0, \\quad b_1 + b_2 = 1, \\quad a_{21} = \\frac{1}{b_2}.\n",
        "    \\end{split}\n",
        "}\n",
        "$$\n"
      ]
    },
    {
      "cell_type": "markdown",
      "metadata": {
        "id": "FGLv-h5Up7Um"
      },
      "source": [
        "##### Реализация метода"
      ]
    },
    {
      "cell_type": "markdown",
      "metadata": {
        "id": "hYNjKYAjp7Um"
      },
      "source": [
        "Реализуйте метод Рунге-Кутты для задачи Коши\n",
        "$$\n",
        "\\begin{cases}\n",
        "x'(t) = f(t, x(t)),\\\\\n",
        "x(t_0) = x_0,\\\\\n",
        "t\\in [t_0, T].\n",
        "\\end{cases}\n",
        "$$\n",
        "в функции `Runge_Kutta_method`, принимающей в качестве аргументов:\n",
        "- `fun` — функция, задающая правую часть уравнения,\n",
        "- `t` — список с границами отрезка — список $[t_0, T]$,\n",
        "- `x_0` — вектор$_{(n\\times 1)}$ начального значения при $t=t_0$,\n",
        "- `dt` — величина $h_k$ (для простоты примем разбиение равномерным),\n",
        "- `args` — словарь с аргументами для функции `fun` (в Python можно передавать в аргументы функции словарь [с помощью оператора `**` перед словарем](https://stackoverflow.com/questions/334655/passing-a-dictionary-to-a-function-as-keyword-parameters)),\n",
        "\n",
        "и возвращающей список с первой координатой — массивом с точками разбиения $t_k$, а второй — массивом со значениями приближенного решения в этих точках.\n",
        "\n",
        "В зависимости от Вашего номера в таблице, возьмите $b_2 = \\frac{1}{6}$"
      ]
    },
    {
      "cell_type": "code",
      "execution_count": null,
      "metadata": {
        "id": "cvWY4vXwp7Un"
      },
      "outputs": [],
      "source": [
        "'''\n",
        "Реализация метода Рунге—Кутты в функции Runge_Kutta_method\n",
        "'''\n",
        "\n",
        "import numpy as np\n",
        "\n",
        "def Runge_Kutta_method(fun, t, x_0, dt, args={}):\n",
        "    # Инициализация параметров разбиения\n",
        "    t0, T = t\n",
        "    t_values = np.arange(t0, T + dt, dt)  # Генерация массива точек времени (включаем T)\n",
        "    n_steps = len(t_values)  # Количество шагов\n",
        "    n_vars = len(x_0)  # Количество переменных в начальном условии\n",
        "    x_values = np.zeros((n_steps, n_vars))  # Массив для хранения значений решения\n",
        "    x_values[0] = x_0  # Установка начального условия\n",
        "\n",
        "    # Определение параметров метода Рунге-Кутты\n",
        "    b2 = 1 / 6  # Заданное значение для b2 = 1/(29mod(8)+1)\n",
        "    b1 = 1 - b2\n",
        "    a21 = 1 / b2\n",
        "\n",
        "    # Основной цикл метода Рунге-Кутты второго порядка\n",
        "    for k in range(n_steps - 1):\n",
        "        t_k = t_values[k]  # Текущее время\n",
        "        x_k = x_values[k]  # Текущее значение функции\n",
        "        h_k = dt  # Шаг интегрирования\n",
        "\n",
        "        # Вычисление промежуточных коэффициентов k1 и k2\n",
        "        k1 = fun(t_k, x_k, **args)\n",
        "        k2 = fun(t_k + a21 * h_k, x_k + a21 * h_k * k1, **args)\n",
        "\n",
        "        # Вычисление следующего значения функции\n",
        "        x_values[k + 1] = x_k + b1 * h_k * k1 + b2 * h_k * k2\n",
        "\n",
        "    return t_values, x_values\n",
        "\n",
        "\n"
      ]
    },
    {
      "cell_type": "markdown",
      "metadata": {
        "id": "6IeGhHGHm_82"
      },
      "source": [
        "#### Примеры"
      ]
    },
    {
      "cell_type": "markdown",
      "metadata": {
        "id": "mJcleGTVcxwD"
      },
      "source": [
        "Давайте проверим Вашу реализацию на примерах."
      ]
    },
    {
      "cell_type": "markdown",
      "metadata": {
        "id": "eTZlAShHdAys"
      },
      "source": [
        "###### 1. Оба метода справляются неплохо"
      ]
    },
    {
      "cell_type": "markdown",
      "metadata": {
        "id": "tdAtksMGdIwn"
      },
      "source": [
        "Придумайте пример дифференциального уравнения Бернулли c $\\alpha = 2$, для которого Вы можете найти точное решение в явном виде и предложенные методы дают хорошие результаты. Также придумайте некоторые начальные условия и отрезок, на котором ищется решение.\n",
        "\n",
        "Решите задачу аналитическим (это Вам придется сделать честным способом на бумажке)"
      ]
    },
    {
      "cell_type": "markdown",
      "metadata": {
        "id": "VFiIxoWyXPZ2"
      },
      "source": [
        "https://drive.google.com/file/d/1QBPHUa65jHDoprR7jzy4fXRLJadrZBa_/view?usp=sharing"
      ]
    },
    {
      "cell_type": "code",
      "execution_count": null,
      "metadata": {
        "id": "Vvu1i6MlOIST"
      },
      "outputs": [],
      "source": [
        "'''\n",
        "Задайте функцию f(t,x) — правую часть предложенного уравнения\n",
        "'''\n",
        "def f(t, x):\n",
        "    return t * x**2 - x\n"
      ]
    },
    {
      "cell_type": "code",
      "execution_count": null,
      "metadata": {
        "id": "XzzYbYN3gp02"
      },
      "outputs": [],
      "source": [
        "'''\n",
        "Задайте функцию phi(t) — аналитическое решение задачи Коши\n",
        "'''\n",
        "def phi(t):\n",
        "    return 1 / (t + 1)"
      ]
    },
    {
      "cell_type": "markdown",
      "metadata": {
        "id": "AAsmIrVQm9J_"
      },
      "source": [
        "Проведите **анализ** относительно связи величины шага $h$, метода и получившейся ошибки.\n",
        "\n",
        "> Ваше исследование должно содержать как минимум:\n",
        "- сравнение ошибок для метода Эйлера с разными значениями шага ($\\geqslant 3$),\n",
        "- сравнение ошибок для метода Рунге-Кутты с разными значениями шага ($\\geqslant 3$),\n",
        "- сравнение методов Эйлера и Рунге-Кутты между собой:\n",
        "    - разница в ошибках при одинаковых шагах\n",
        "    - разница в шагах при (приблизительно) одинаковой ошибке\n"
      ]
    },
    {
      "cell_type": "markdown",
      "metadata": {
        "id": "u7nXQF98mVCO"
      },
      "source": [
        "❗ **Место для Вашего решения** ❗"
      ]
    },
    {
      "cell_type": "code",
      "execution_count": null,
      "metadata": {
        "id": "NJ5-1INM8c0r"
      },
      "outputs": [],
      "source": [
        "'''\n",
        "Постройте необходимые графики для анализа\n",
        "(не забудьте добавить легенду к графикам, чтобы отличать решения)\n",
        "'''\n",
        "import numpy as np\n",
        "import matplotlib.pyplot as plt\n",
        "import time\n",
        "\n",
        "# Задаём правую часть уравнения\n",
        "def f(x, y):\n",
        "    return x * y**2 - y\n",
        "\n",
        "# Аналитическое решение\n",
        "def phi(x):\n",
        "    return 1 / (x + 1)\n",
        "\n",
        "# Начальные условия\n",
        "x0 = 1\n",
        "y0 = 0.5\n",
        "x_end = 5\n",
        "\n",
        "# Значения шага h\n",
        "h_values = [0.5, 0.1, 0.01]\n",
        "\n",
        "# Для хранения результатов\n",
        "errors_euler = []\n",
        "errors_rk4 = []\n",
        "times_euler = []\n",
        "times_rk4 = []\n",
        "\n",
        "# Метод Эйлера\n",
        "for h in h_values:\n",
        "    start_time = time.time()\n",
        "    x_euler, y_euler = euler_method(f, x0, y0, x_end, h)\n",
        "    elapsed_time = time.time() - start_time\n",
        "    times_euler.append(elapsed_time)\n",
        "    y_true = [phi(x) for x in x_euler]\n",
        "    error = max(abs(np.array(y_true) - np.array(y_euler)))\n",
        "    errors_euler.append(error)\n",
        "\n",
        "# Метод Рунге-Кутты\n",
        "for h in h_values:\n",
        "    start_time = time.time()\n",
        "    x_rk4, y_rk4 = rk4_method(f, x0, y0, x_end, h)\n",
        "    elapsed_time = time.time() - start_time\n",
        "    times_rk4.append(elapsed_time)\n",
        "    y_true = [phi(x) for x in x_rk4]\n",
        "    error = max(abs(np.array(y_true) - np.array(y_rk4)))\n",
        "    errors_rk4.append(error)\n",
        "\n",
        "# Построение графиков\n",
        "plt.figure(figsize=(12, 6))\n",
        "\n",
        "# График ошибок метода Эйлера\n",
        "plt.subplot(1, 2, 1)\n",
        "plt.loglog(h_values, errors_euler, marker='o', label='Метод Эйлера')\n",
        "plt.loglog(h_values, errors_rk4, marker='s', label='Метод Рунге-Кутты 4-го порядка')\n",
        "plt.xlabel('Шаг h')\n",
        "plt.ylabel('Максимальная ошибка')\n",
        "plt.title('Зависимость ошибки от шага')\n",
        "plt.legend()\n",
        "plt.grid(True, which=\"both\", ls=\"--\")\n",
        "\n",
        "# График времени выполнения\n",
        "plt.subplot(1, 2, 2)\n",
        "plt.plot(h_values, times_euler, marker='o', label='Метод Эйлера')\n",
        "plt.plot(h_values, times_rk4, marker='s', label='Метод Рунге-Кутты 4-го порядка')\n",
        "plt.xlabel('Шаг h')\n",
        "plt.ylabel('Время выполнения (сек)')\n",
        "plt.title('Зависимость времени выполнения от шага')\n",
        "plt.legend()\n",
        "plt.grid(True)\n",
        "\n",
        "plt.tight_layout()\n",
        "plt.show()\n"
      ]
    },
    {
      "cell_type": "markdown",
      "metadata": {
        "id": "1zPClLuui3hs"
      },
      "source": [
        "\n",
        "Сделайте вывод относительно связи между размером шага, точностью и временем работы программы."
      ]
    },
    {
      "cell_type": "markdown",
      "metadata": {
        "id": "MY18snxooFIk"
      },
      "source": [
        "---\n",
        " ❗ **Место для Вашего вывода** ❗\n",
        "\n",
        " Мне кажется, что для практических задач, где важна точность и эффективность, предпочтительно использовать методы более высокого порядка, такие как метод Рунге-Кутты 4-го порядка, поскольку они обеспечивают высокую точность при относительно больших шагах и, следовательно, сокращают общее время вычислений.\n",
        "\n",
        "Метод Рунге-Кутты 4-го порядка позволяет использовать большие шаги для достижения заданной точности, что может сократить время вычислений в задачах с большими объёмами данных.\n",
        "\n",
        "Метод Эйлера прост в реализации, но требует очень маленьких шагов для достижения высокой точности, что может приводить к увеличению времени выполнения программы.\n",
        "\n",
        "При выборе метода и шага необходимо балансировать между требуемой точностью и допустимым временем вычисления.\n",
        "\n",
        "---"
      ]
    },
    {
      "cell_type": "markdown",
      "metadata": {
        "id": "GEEAQSXDjPTQ"
      },
      "source": [
        "## 2. Метод Эйлера справляется, но лишь сильное уменьшение шага дает адекватную точность. Метод Рунге-Кутты справляется хорошо"
      ]
    },
    {
      "cell_type": "markdown",
      "metadata": {
        "id": "Jy1c7rzAjPTU"
      },
      "source": [
        "Придумайте пример дифференциального уравнения с некоторыми начальными условиями, для которого точности метода Эйлера может не хватить, а метод Рунге-Кутты выручает.  \n",
        "\n",
        "Запустите написанные ранее методы для данной задачи и сравните численное решение с аналитическим (которое, правда, Вам снова придется найти честным способом на бумажке)"
      ]
    },
    {
      "cell_type": "markdown",
      "metadata": {
        "id": "gGK3UvkwjPTV"
      },
      "source": [
        "https://drive.google.com/file/d/1hCLlA2urRjDlyNGQREfYXQfjXIAmQ9oE/view?usp=sharing"
      ]
    },
    {
      "cell_type": "code",
      "execution_count": null,
      "metadata": {
        "id": "CUPyPNePjPTW"
      },
      "outputs": [],
      "source": [
        "'''\n",
        "Задайте функцию f(t,x) — правую часть предложенного уравнения\n",
        "'''\n",
        "\n",
        "def f(t,x):\n",
        "   return -15 * y + 15 * np.sin(x) + np.cos(x)\n"
      ]
    },
    {
      "cell_type": "code",
      "execution_count": null,
      "metadata": {
        "id": "L645Ay2JjPTW"
      },
      "outputs": [],
      "source": [
        "'''\n",
        "Задайте функцию phi(t) — аналитическое решение задачи Коши\n",
        "'''\n",
        "\n",
        "def phi(t):\n",
        "    return np.sin(x)\n"
      ]
    },
    {
      "cell_type": "code",
      "execution_count": null,
      "metadata": {
        "id": "A4OeRugcjPTX"
      },
      "outputs": [],
      "source": [
        "'''\n",
        "Постройте необходимые графики для анализа\n",
        "(не забудьте добавить легенду к графикам, чтобы отличать решения)\n",
        "'''\n",
        "\n",
        "import numpy as np\n",
        "import matplotlib.pyplot as plt\n",
        "import time\n",
        "\n",
        "# Задаём правую часть уравнения\n",
        "def f(x, y):\n",
        "    return -15 * y + 15 * np.sin(x) + np.cos(x)\n",
        "\n",
        "# Аналитическое решение\n",
        "def phi(x):\n",
        "    return np.sin(x)\n",
        "\n",
        "# Начальные условия\n",
        "x0 = 0\n",
        "y0 = 0\n",
        "x_end = 2 * np.pi  # Решаем на интервале от 0 до 2π\n",
        "\n",
        "# Значения шага h\n",
        "h_values = [0.5, 0.1, 0.01]\n",
        "\n",
        "# Метод Эйлера\n",
        "def euler_method(f, x0, y0, x_end, h):\n",
        "    x_values = [x0]\n",
        "    y_values = [y0]\n",
        "    x = x0\n",
        "    y = y0\n",
        "    while x < x_end:\n",
        "        y += h * f(x, y)\n",
        "        x += h\n",
        "        x_values.append(x)\n",
        "        y_values.append(y)\n",
        "    return x_values, y_values\n",
        "\n",
        "# Метод Рунге-Кутты 4-го порядка\n",
        "def rk4_method(f, x0, y0, x_end, h):\n",
        "    x_values = [x0]\n",
        "    y_values = [y0]\n",
        "    x = x0\n",
        "    y = y0\n",
        "    while x < x_end:\n",
        "        k1 = h * f(x, y)\n",
        "        k2 = h * f(x + h / 2, y + k1 / 2)\n",
        "        k3 = h * f(x + h / 2, y + k2 / 2)\n",
        "        k4 = h * f(x + h, y + k3)\n",
        "        y += (k1 + 2 * k2 + 2 * k3 + k4) / 6\n",
        "        x += h\n",
        "        x_values.append(x)\n",
        "        y_values.append(y)\n",
        "    return x_values, y_values\n",
        "\n",
        "# Списки для хранения ошибок и времени\n",
        "errors_euler = []\n",
        "errors_rk4 = []\n",
        "times_euler = []\n",
        "times_rk4 = []\n",
        "\n",
        "for h in h_values:\n",
        "    # Метод Эйлера\n",
        "    start_time = time.time()\n",
        "    x_euler, y_euler = euler_method(f, x0, y0, x_end, h)\n",
        "    elapsed_time = time.time() - start_time\n",
        "    times_euler.append(elapsed_time)\n",
        "    y_true = phi(np.array(x_euler))\n",
        "    error = max(abs(y_true - np.array(y_euler)))\n",
        "    errors_euler.append(error)\n",
        "    \n",
        "    # Метод Рунге-Кутты\n",
        "    start_time = time.time()\n",
        "    x_rk4, y_rk4 = rk4_method(f, x0, y0, x_end, h)\n",
        "    elapsed_time = time.time() - start_time\n",
        "    times_rk4.append(elapsed_time)\n",
        "    y_true = phi(np.array(x_rk4))\n",
        "    error = max(abs(y_true - np.array(y_rk4)))\n",
        "    errors_rk4.append(error)\n",
        "    \n",
        "    # Построение графиков\n",
        "    plt.figure(figsize=(10, 6))\n",
        "    plt.plot(x_euler, y_euler, 'r.-', label='Метод Эйлера')\n",
        "    plt.plot(x_rk4, y_rk4, 'g.-', label='Метод Рунге-Кутты 4-го порядка')\n",
        "    plt.plot(x_euler, y_true, 'b-', label='Аналитическое решение')\n",
        "    plt.xlabel('x')\n",
        "    plt.ylabel('y')\n",
        "    plt.title(f'Решения при h = {h}')\n",
        "    plt.legend()\n",
        "    plt.grid(True)\n",
        "    plt.show()\n",
        "\n",
        "# Вывод результатов\n",
        "print(\"Метод Эйлера:\")\n",
        "for i, h in enumerate(h_values):\n",
        "    print(f\"h = {h}, Максимальная ошибка = {errors_euler[i]:.5f}, Время выполнения = {times_euler[i]:.5f} сек\")\n",
        "\n",
        "print(\"\\nМетод Рунге-Кутты 4-го порядка:\")\n",
        "for i, h in enumerate(h_values):\n",
        "    print(f\"h = {h}, Максимальная ошибка = {errors_rk4[i]:.5f}, Время выполнения = {times_rk4[i]:.5f} сек\")\n",
        "\n"
      ]
    },
    {
      "cell_type": "markdown",
      "metadata": {
        "id": "F-TbO7BXjPTY"
      },
      "source": [
        "\n",
        "Сделайте вывод относительно причин, по которым получается такое поведение методов."
      ]
    },
    {
      "cell_type": "markdown",
      "metadata": {
        "id": "-scpb5AqjPTY"
      },
      "source": [
        "Выводы:\n",
        "Мне кажется, что основными причинами различий в поведении методов являются их порядки точности и способности учитывать изменения решения внутри шага интегрирования. Метод Эйлера, будучи простым и быстрым, недостаточно точен для уравнений с быстро меняющимися решениями или жёстких уравнений. Его низкий порядок точности и высокая чувствительность к величине шага делают его непрактичным для таких задач.\n",
        "\n",
        "Метод Рунге-Кутты 4-го порядка, напротив, обеспечивает высокую точность благодаря учёту изменений производной внутри каждого шага. Он позволяет использовать более крупные шаги \n",
        "h\n",
        "h без существенной потери точности, что сокращает количество вычислений и время выполнения программы. Это делает его предпочтительным выбором для задач, требующих высокой точности и эффективности, особенно когда решение содержит быстро меняющиеся компоненты или жёсткие характеристики.\n",
        "\n"
      ]
    },
    {
      "cell_type": "markdown",
      "metadata": {
        "id": "EVWC3lV3jbdE"
      },
      "source": [
        "## 3. Оба этих метода не справляются с задачей"
      ]
    },
    {
      "cell_type": "markdown",
      "metadata": {
        "id": "cllfZ3nMjbdF"
      },
      "source": [
        "Придумайте пример дифференциального уравнения с некоторыми начальными условиями, для которого ни метод Эйлера, ни метод Рунге-Кутты не может получить хорошего результата.  \n",
        "\n",
        "Запустите написанные ранее методы для данной задачи и сравните численное решение с аналитическим (которое, правда, Вам снова придется найти честным способом на бумажке)"
      ]
    },
    {
      "cell_type": "markdown",
      "metadata": {
        "id": "1fW7sWpGjbdF"
      },
      "source": []
    },
    {
      "cell_type": "markdown",
      "metadata": {
        "id": "O9TkT9Xqowmv"
      },
      "source": [
        "❗ **Место для Вашего решения** ❗"
      ]
    },
    {
      "cell_type": "code",
      "execution_count": null,
      "metadata": {
        "id": "3ZuojrA2jbdG"
      },
      "outputs": [],
      "source": [
        "'''\n",
        "Задайте функцию f(t,x) — правую часть предложенного уравнения\n",
        "'''\n",
        "\n",
        "def f(t,x):\n",
        "     return y**2\n"
      ]
    },
    {
      "cell_type": "code",
      "execution_count": null,
      "metadata": {
        "id": "eUyp6rAljbdH"
      },
      "outputs": [],
      "source": [
        "'''\n",
        "Задайте функцию phi(t) — аналитическое решение задачи Коши\n",
        "'''\n",
        "\n",
        "def phi(t):\n",
        "    return 1 / (1 - x)\n"
      ]
    },
    {
      "cell_type": "code",
      "execution_count": null,
      "metadata": {
        "id": "ggo1mDQnjbdH"
      },
      "outputs": [],
      "source": [
        "'''\n",
        "Постройте необходимые графики для анализа\n",
        "(не забудьте добавить легенду к графикам, чтобы отличать решения)\n",
        "'''\n",
        "\n",
        "import numpy as np\n",
        "import matplotlib.pyplot as plt\n",
        "import time\n",
        "\n",
        "# Задаём правую часть уравнения\n",
        "def f(x, y):\n",
        "    return y**2\n",
        "\n",
        "# Аналитическое решение\n",
        "def phi(x):\n",
        "    return 1 / (1 - x)\n",
        "\n",
        "# Начальные условия\n",
        "x0 = 0\n",
        "y0 = 1\n",
        "x_end = 0.99  # Берём x_end близким к 1, но меньше, чтобы избежать сингулярности\n",
        "\n",
        "# Значения шага h\n",
        "h_values = [0.1, 0.01, 0.001]\n",
        "\n",
        "# Метод Эйлера\n",
        "def euler_method(f, x0, y0, x_end, h):\n",
        "    x_values = [x0]\n",
        "    y_values = [y0]\n",
        "    x = x0\n",
        "    y = y0\n",
        "    while x < x_end:\n",
        "        y += h * f(x, y)\n",
        "        x += h\n",
        "        x_values.append(x)\n",
        "        y_values.append(y)\n",
        "        if y > 1e6:  # Ограничиваем значение y для избежания переполнения\n",
        "            break\n",
        "    return x_values, y_values\n",
        "\n",
        "# Метод Рунге-Кутты 4-го порядка\n",
        "def rk4_method(f, x0, y0, x_end, h):\n",
        "    x_values = [x0]\n",
        "    y_values = [y0]\n",
        "    x = x0\n",
        "    y = y0\n",
        "    while x < x_end:\n",
        "        k1 = h * f(x, y)\n",
        "        k2 = h * f(x + h / 2, y + k1 / 2)\n",
        "        k3 = h * f(x + h / 2, y + k2 / 2)\n",
        "        k4 = h * f(x + h, y + k3)\n",
        "        y += (k1 + 2 * k2 + 2 * k3 + k4) / 6\n",
        "        x += h\n",
        "        x_values.append(x)\n",
        "        y_values.append(y)\n",
        "        if y > 1e6:  # Ограничиваем значение y для избежания переполнения\n",
        "            break\n",
        "    return x_values, y_values\n",
        "\n",
        "# Списки для хранения ошибок и времени\n",
        "errors_euler = []\n",
        "errors_rk4 = []\n",
        "times_euler = []\n",
        "times_rk4 = []\n",
        "\n",
        "for h in h_values:\n",
        "    # Метод Эйлера\n",
        "    start_time = time.time()\n",
        "    x_euler, y_euler = euler_method(f, x0, y0, x_end, h)\n",
        "    elapsed_time = time.time() - start_time\n",
        "    times_euler.append(elapsed_time)\n",
        "    y_true = phi(np.array(x_euler))\n",
        "    error = max(abs(y_true - np.array(y_euler)))\n",
        "    errors_euler.append(error)\n",
        "    \n",
        "    # Метод Рунге-Кутты\n",
        "    start_time = time.time()\n",
        "    x_rk4, y_rk4 = rk4_method(f, x0, y0, x_end, h)\n",
        "    elapsed_time = time.time() - start_time\n",
        "    times_rk4.append(elapsed_time)\n",
        "    y_true_rk4 = phi(np.array(x_rk4))\n",
        "    error_rk4 = max(abs(y_true_rk4 - np.array(y_rk4)))\n",
        "    errors_rk4.append(error_rk4)\n",
        "    \n",
        "    # Построение графиков\n",
        "    plt.figure(figsize=(10, 6))\n",
        "    plt.plot(x_euler, y_euler, 'r.-', label='Метод Эйлера')\n",
        "    plt.plot(x_rk4, y_rk4, 'g.-', label='Метод Рунге-Кутты 4-го порядка')\n",
        "    plt.plot(x_euler, phi(np.array(x_euler)), 'b-', label='Аналитическое решение')\n",
        "    plt.xlabel('x')\n",
        "    plt.ylabel('y')\n",
        "    plt.title(f'Решения при h = {h}')\n",
        "    plt.legend()\n",
        "    plt.grid(True)\n",
        "    plt.show()\n",
        "    \n",
        "# Вывод результатов\n",
        "print(\"Метод Эйлера:\")\n",
        "for i, h in enumerate(h_values):\n",
        "    print(f\"h = {h}, Максимальная ошибка = {errors_euler[i]:.5f}, Время выполнения = {times_euler[i]:.5f} сек\")\n",
        "\n",
        "print(\"\\nМетод Рунге-Кутты 4-го порядка:\")\n",
        "for i, h in enumerate(h_values):\n",
        "    print(f\"h = {h}, Максимальная ошибка = {errors_rk4[i]:.5f}, Время выполнения = {times_rk4[i]:.5f} сек\")\n",
        "\n"
      ]
    },
    {
      "cell_type": "markdown",
      "metadata": {
        "id": "F9-nhlfdjbdI"
      },
      "source": [
        "\n",
        "Сделайте вывод относительно причин неприменимости этих методов."
      ]
    },
    {
      "cell_type": "markdown",
      "metadata": {
        "id": "AkKPoemcjbdI"
      },
      "source": [
        "\n",
        "Мне кажется, что основными причинами неприменимости методов Эйлера и Рунге-Кутты для решения уравнения являются особенности самого уравнения и его аналитического решения, а именно наличие сингулярности при конечном значении x. Методы предполагают гладкость решения: И метод Эйлера, и метод Рунге-Кутты 4-го порядка основаны на предположении, что решение и его производная изменяются плавно на рассматриваемом интервале. Наличие сингулярности нарушает это предположение.\n"
      ]
    },
    {
      "cell_type": "markdown",
      "metadata": {
        "id": "xp9YbDYv7BO_"
      },
      "source": [
        "## 4. Применимость методов для задачи с особым решением"
      ]
    },
    {
      "cell_type": "markdown",
      "metadata": {
        "id": "iRV-Cmlp7BPB"
      },
      "source": [
        "Придумайте пример дифференциального уравнения с некоторыми начальными условиями, для которого существует особое решение.  \n",
        "\n",
        "Запустите написанные ранее методы для данной задачи и сравните численное решение с аналитическим (которое, правда, Вам снова придется найти честным способом на бумажке)"
      ]
    },
    {
      "cell_type": "markdown",
      "metadata": {
        "id": "uIwO8MRv7BPC"
      },
      "source": [
        "https://drive.google.com/file/d/1hXjs-HF44RXry07YKGv5oUJL1KZIx1q3/view?usp=sharing"
      ]
    },
    {
      "cell_type": "markdown",
      "metadata": {
        "id": "llTOUSwa7BPC"
      },
      "source": [
        "❗ **Место для Вашего решения** ❗"
      ]
    },
    {
      "cell_type": "code",
      "execution_count": null,
      "metadata": {
        "id": "O3FpDRPT7BPC"
      },
      "outputs": [],
      "source": [
        "'''\n",
        "Задайте функцию f(t,x) — правую часть предложенного уравнения\n",
        "'''\n",
        "\n",
        "def f(t,x):\n",
        "    discriminant = x**2 + 4 * y\n",
        "    if discriminant < 0:\n",
        "        # Комплексные значения, вернём NaN\n",
        "        return float('nan')\n",
        "    else:\n",
        "        return (-x + np.sqrt(discriminant)) / 2\n"
      ]
    },
    {
      "cell_type": "code",
      "execution_count": null,
      "metadata": {
        "id": "cqVG6Nog7BPD"
      },
      "outputs": [],
      "source": [
        "'''\n",
        "Задайте функцию phi(t) — аналитическое решение задачи Коши\n",
        "'''\n",
        "\n",
        "def phi_general(x):\n",
        "    return -0.5 * x + 0.25\n",
        "\n",
        "def phi_singular(x):\n",
        "    return -0.25 * x**2\n"
      ]
    },
    {
      "cell_type": "code",
      "execution_count": null,
      "metadata": {
        "id": "TY6xYMcb7BPD"
      },
      "outputs": [],
      "source": [
        "'''\n",
        "Постройте необходимые графики для анализа\n",
        "(не забудьте добавить легенду к графикам, чтобы отличать решения)\n",
        "'''\n",
        "\n",
        "import numpy as np\n",
        "import matplotlib.pyplot as plt\n",
        "\n",
        "# Функция f(x, y) задана выше\n",
        "\n",
        "# Метод Эйлера\n",
        "def euler_method(f, x0, y0, x_end, h):\n",
        "    x_values = [x0]\n",
        "    y_values = [y0]\n",
        "    x = x0\n",
        "    y = y0\n",
        "    while x < x_end:\n",
        "        y_derivative = f(x, y)\n",
        "        if np.isnan(y_derivative):\n",
        "            break\n",
        "        y += h * y_derivative\n",
        "        x += h\n",
        "        x_values.append(x)\n",
        "        y_values.append(y)\n",
        "    return x_values, y_values\n",
        "\n",
        "# Метод Рунге-Кутты 4-го порядка\n",
        "def rk4_method(f, x0, y0, x_end, h):\n",
        "    x_values = [x0]\n",
        "    y_values = [y0]\n",
        "    x = x0\n",
        "    y = y0\n",
        "    while x < x_end:\n",
        "        k1 = h * f(x, y)\n",
        "        k2 = h * f(x + h / 2, y + k1 / 2)\n",
        "        k3 = h * f(x + h / 2, y + k2 / 2)\n",
        "        k4 = h * f(x + h, y + k3)\n",
        "        if np.isnan(k1) or np.isnan(k2) or np.isnan(k3) or np.isnan(k4):\n",
        "            break\n",
        "        y += (k1 + 2 * k2 + 2 * k3 + k4) / 6\n",
        "        x += h\n",
        "        x_values.append(x)\n",
        "        y_values.append(y)\n",
        "    return x_values, y_values\n",
        "# Начальные условия\n",
        "x0 = 1\n",
        "y0 = -0.25\n",
        "x_end = 3\n",
        "h_values = [0.1, 0.05, 0.01]\n",
        "\n",
        "for h in h_values:\n",
        "    # Метод Эйлера\n",
        "    x_euler, y_euler = euler_method(f, x0, y0, x_end, h)\n",
        "    \n",
        "    # Метод Рунге-Кутты 4-го порядка\n",
        "    x_rk4, y_rk4 = rk4_method(f, x0, y0, x_end, h)\n",
        "    \n",
        "    # Аналитические решения\n",
        "    x_analytic = np.linspace(x0, x_end, 1000)\n",
        "    y_general = phi_general(x_analytic)\n",
        "    y_singular = phi_singular(x_analytic)\n",
        "    \n",
        "    # Построение графика\n",
        "    plt.figure(figsize=(10, 6))\n",
        "    plt.plot(x_euler, y_euler, 'r.-', label='Метод Эйлера')\n",
        "    plt.plot(x_rk4, y_rk4, 'g.-', label='Метод Рунге-Кутты 4-го порядка')\n",
        "    plt.plot(x_analytic, y_general, 'b-', label='Общее аналитическое решение')\n",
        "    plt.plot(x_analytic, y_singular, 'k--', label='Особое решение')\n",
        "    plt.xlabel('x')\n",
        "    plt.ylabel('y')\n",
        "    plt.title(f'Сравнение численных и аналитических решений при h = {h}')\n",
        "    plt.legend()\n",
        "    plt.grid(True)\n",
        "    plt.show()\n",
        "\n"
      ]
    },
    {
      "cell_type": "markdown",
      "metadata": {
        "id": "MHblhA2b7BPD"
      },
      "source": [
        "\n",
        "Сделайте вывод относительно произошедшего в моделировании и применимости этих методов к задачам с особым решением."
      ]
    },
    {
      "cell_type": "markdown",
      "metadata": {
        "id": "xceM9WYq7BPE"
      },
      "source": [
        "Мне кажется, что численные методы, такие как метод Эйлера и метод Рунге-Кутты 4-го порядка, при моделировании дифференциальных уравнений с особым решением не способны выявить это особое решение, если начальные условия и вычисления направляют их по траектории общего решения. Это связано с тем, что численные методы основаны на локальной аппроксимации производной и не учитывают глобальные особенности уравнения, такие как наличие особых решений. Для корректного моделирования таких уравнений необходимо применять специальные методы или проводить дополнительный аналитический анализ, чтобы определить все возможные решения и их области применимости."
      ]
    },
    {
      "cell_type": "markdown",
      "metadata": {
        "id": "h5XJ5JmKBu4A"
      },
      "source": [
        "#### \\* Дополнительное размышление (Дополнительное задание _по желанию_)"
      ]
    },
    {
      "cell_type": "markdown",
      "metadata": {
        "id": "-dqprEqXCFYZ"
      },
      "source": [
        "Посмотрите, какие методы могут использоваться для исправления выявленных недостатков приведенных выше методов.\n",
        "\n",
        "- Опишите кратко теоретические выкладки относительно одного из таких методов.\n",
        "- Попробуйте объяснить, каким образом предложенный метод помогает бороться с различными недостатками.\n",
        "- Опишите проблемы, которые появляются (или также проявляются) по сравнению с стандартными методами (Эйлера и Рунге-Кутты).\n",
        "- Приведите пример, в котором методы Эйлера и Рунге-Кутты не решают задачу, а предложенный в этом пункте метод справляется."
      ]
    },
    {
      "cell_type": "markdown",
      "metadata": {
        "id": "0Uu9gPFVasqq"
      },
      "source": [
        "## Задание 2. Восстановление цифр по бракованным картинкам."
      ]
    },
    {
      "cell_type": "markdown",
      "metadata": {
        "id": "1K0DLp_73B7d"
      },
      "source": [
        "В этом пункте мы посмотрим на неожи"
      ]
    },
    {
      "cell_type": "markdown",
      "metadata": {
        "id": "dpApMCw0-VfT"
      },
      "source": [
        "### Описание задачи"
      ]
    },
    {
      "cell_type": "markdown",
      "metadata": {
        "id": "HuIE8xezWalS"
      },
      "source": [
        "Вам предоставлен кусок тренировочной выборки из базы данных [MNIST](https://www.kaggle.com/datasets/hojjatk/mnist-dataset). А также бракованные изображения из этого же датасета.\n",
        "\n",
        "<p>    \n",
        "    <center>\n",
        "    <img src=\"https://drive.google.com/uc?export=view&id=1jgWvIHwXkhQ1iE6ER0Wy_SLxBvCWW1Dd\" alt=\"Проблемы с отображением изображения. Обратитесь к автору\" width=500>\n",
        "    <img src=\"https://drive.google.com/uc?export=view&id=1AET7slaGnEePLx3qjrxycJSXfHJg55bz\" alt=\"Проблемы с отображением изображения. Обратитесь к автору\" width=500>\n",
        "    <em><br>Пример данных из датасета MNIST<br>Сначала: тренировочные изображения,<br>Потом: бракованные изображения</em>\n",
        "    </center>\n",
        "</p>\n",
        "\n",
        "Необходимо, используя простейшую версию [нейронной сети Хопфилда](https://arxiv.org/abs/2008.02217), восстановить цифры на бракованных изображениях.\n",
        "\n",
        "<p>    \n",
        "    <center>\n",
        "    <img src=\"https://upload.wikimedia.org/wikipedia/commons/b/b4/Hopfield%27s_net.png\" alt>\n",
        "    <em><br>Пример: схема нейронной сети Хопфилда с тремя нейронами</em>\n",
        "    </center>\n",
        "</p>\n",
        "\n",
        "Переписывая заданную в нейронной сети Хопфилда структуру с $m$ нейронами в виде уравнения в матричном виде, можно получить\n",
        "$$\\boxed{x' = A^T \\mathrm{softmax}(\\beta Ax) - x}, \\tag{1}$$\n",
        "где $A$ — $\\text{матрица}_{(m \\times n)}$ весов, $\\beta \\in \\mathbb{R}$, $x$ — $\\text{вектор}_{(n, 1)}$ входных нейронов, $\\mathrm{softmax}(z)_i = \\frac{e^{z_i}}{\\sum_{k} e^{z_k}}$ — функция активации.\n",
        "\n",
        "А значит, задача применения нейронной сети с известной$^*$ матрицей весов сводится к решению дифференциального уравнения (1).\n",
        "\n",
        "<sub>$^*$ Матрица с весами нетрудно получается на\n",
        "основе тренировочных данных, о чем мы поговорим чуть дальше.</sub>"
      ]
    },
    {
      "cell_type": "markdown",
      "metadata": {
        "id": "dV1NelH3u3Kl"
      },
      "source": [
        "Нам дальше понадобится функция $\\mathrm{softmax}(x)$. Реализуйте более удобную далее в применении $\\mathrm{softmax}(\\beta \\cdot x)$ в функции `softmax(x, beta)`, рассматривая $x$ как массив `numpy.array`, а $\\beta$ — как число."
      ]
    },
    {
      "cell_type": "code",
      "execution_count": null,
      "metadata": {
        "id": "cDCM7KFBu2SJ"
      },
      "outputs": [],
      "source": [
        "'''\n",
        "Функция softmax(beta*x)\n",
        "x — numpy.array\n",
        "beta — число\n",
        "'''\n",
        "\n",
        "def softmax(z, beta=1):\n",
        "    z = beta * z\n",
        "    z_max = np.max(z)  # Для численной стабильности\n",
        "    exp_z = np.exp(z - z_max)\n",
        "    return exp_z / np.sum(exp_z)\n"
      ]
    },
    {
      "cell_type": "markdown",
      "metadata": {
        "id": "AkY1XsrfvkML"
      },
      "source": [
        "Запишите правую часть уравнения (1), с которым мы дальше будем активно работать, в функцию `dynamics(x, A, beta)`. Используйте в качестве $x$ и $A$ массивы `numpy.array`, а в качестве $\\beta$ — число."
      ]
    },
    {
      "cell_type": "code",
      "execution_count": null,
      "metadata": {
        "id": "K--hBrWWvjxe"
      },
      "outputs": [],
      "source": [
        "'''\n",
        "Правая часть уравнения (1)\n",
        "x — numpy.array\n",
        "A — numpy.array\n",
        "beta — число\n",
        "'''\n",
        "\n",
        "def dynamics(x, A, beta):\n",
        "   z_beta = beta * z\n",
        "    exp_z = np.exp(z_beta - np.max(z_beta))  # Subtract max for numerical stability\n",
        "    return exp_z / np.sum(exp_z)\n",
        "\n"
      ]
    },
    {
      "cell_type": "markdown",
      "metadata": {
        "id": "wIvfroq9dq8L"
      },
      "source": [
        "### Интуитивное понимание принципа работы нейронной сети Хопфилда\n"
      ]
    },
    {
      "cell_type": "markdown",
      "metadata": {
        "id": "r70MUF1CtwB8"
      },
      "source": [
        "#### Простой случай на плоскости"
      ]
    },
    {
      "cell_type": "markdown",
      "metadata": {
        "id": "Y8mwhxrEtULZ"
      },
      "source": [
        "Для того, чтобы понять, почему предложенный выше метод работает, необходимо углубиться в дифференциальное уравнение (1).\n",
        "\n",
        "Как мы помним, для начального анализа мы можем использовать некоторые графические методы. Например, изоклины, или, в более общем случае, --- векторные поля.\n",
        "\n",
        "Постройте с помощью [`plt.quiver`](https://matplotlib.org/stable/api/_as_gen/matplotlib.pyplot.quiver.html) векторное поле для уравнения $x' = A^T \\mathrm{softmax} (\\beta A x)-x$, положив $A = \\begin{bmatrix}1&0\\\\0&1\\\\-1&-1\\end{bmatrix}$, $\\beta=5$.\n",
        "\n",
        "Добавьте на этот же график точки* $(1,0), (0,1), (-1,-1)$.\n",
        "\n",
        "_* Заметьте, что это просто точки из матрицы $A$, координаты которых находятся в строках этой матрицы_."
      ]
    },
    {
      "cell_type": "code",
      "execution_count": null,
      "metadata": {
        "id": "oqJeMU1OSk9f"
      },
      "outputs": [],
      "source": [
        "'''\n",
        "Векторное поле уравнения x' = A^T softmax(beta * A * x) - x\n",
        "'''\n",
        "\n",
        "# Параметры\n",
        "A = np.array([[1, 0],\n",
        "              [0, 1],\n",
        "              [-1, -1]])\n",
        "beta = 5\n",
        "\n",
        "# Создаем сетку точек в области [-2, 2] x [-2, 2]\n",
        "x_values = np.linspace(-2, 2, 20)\n",
        "y_values = np.linspace(-2, 2, 20)\n",
        "X, Y = np.meshgrid(x_values, y_values)\n",
        "\n",
        "# Инициализируем массивы для компонентов векторов\n",
        "U = np.zeros(X.shape)\n",
        "V = np.zeros(Y.shape)\n",
        "\n",
        "# Вычисляем векторное поле\n",
        "for i in range(X.shape[0]):\n",
        "    for j in range(X.shape[1]):\n",
        "        x_point = np.array([X[i, j], Y[i, j]])\n",
        "        x_dot = dynamics(x_point, A, beta)\n",
        "        U[i, j] = x_dot[0]\n",
        "        V[i, j] = x_dot[1]\n",
        "plt.figure(figsize=(10, 8))\n",
        "\n",
        "# Отображаем векторное поле\n",
        "plt.quiver(X, Y, U, V, color='blue', alpha=0.6)\n",
        "\n",
        "# Добавляем точки из матрицы A\n",
        "points = np.array([[1, 0], [0, 1], [-1, -1]])\n",
        "plt.scatter(points[:, 0], points[:, 1], color='red', s=50, label='Точки из матрицы A')\n",
        "\n",
        "# Подписываем точки\n",
        "for idx, (x_pt, y_pt) in enumerate(points):\n",
        "    plt.annotate(f'({x_pt}, {y_pt})', (x_pt, y_pt), textcoords=\"offset points\", xytext=(5,5), ha='center')\n",
        "\n",
        "plt.xlabel('$x$')\n",
        "plt.ylabel('$y$')\n",
        "plt.title('Векторное поле для уравнения $x\\' = A^T \\\\mathrm{softmax}(\\\\beta A x) - x$')\n",
        "plt.legend()\n",
        "plt.grid(True)\n",
        "plt.show()\n"
      ]
    },
    {
      "cell_type": "markdown",
      "metadata": {
        "id": "JHQ6CpYjmwLw"
      },
      "source": [
        "Замечаете странное поведение стрелочек? Они как будто смотрят на одну из наших выбранных точек.\n",
        "\n",
        "Давайте проверим, сохранится ли такое поведение при другой матрице $A$.\n",
        "\n",
        "Рассмотрите матрицу $A=\\begin{bmatrix}2&2\\\\2&-1\\\\-3&4\\\\-4&-3\\end{bmatrix}$.\n",
        "\n",
        "Постройте векторное поле и найдите, какие точки обладают таким же поведением (к ним тянутся стрелочки).\n"
      ]
    },
    {
      "cell_type": "code",
      "execution_count": null,
      "metadata": {
        "id": "f0xYretquX_E"
      },
      "outputs": [],
      "source": [
        "'''\n",
        "Векторное поле уравнения x' = A^T softmax(beta * A * x) - x\n",
        "A = [[2,2],[2,-1],[-3,4],[-4,-3]]\n",
        "beta = 5\n",
        "'''\n",
        "\n",
        "### Место для Вашего решения ###\n"
      ]
    },
    {
      "cell_type": "markdown",
      "metadata": {
        "id": "Zu_cZiXyquWp"
      },
      "source": [
        "Не кажется ли это очень неплохим свойством? Вспомним, что векторное поле показывает как будто бы «направление скорости» нашей системы. А значит, начиная из какой-нибудь точки на плоскости, мы «скатимся» по стрелочкам в одну из заданных нами в матрице $A$ точек.\n",
        "\n",
        "Подробнее о таком поведении мы поговорим ближе к концу семестра в курсе, а пока стоит понимать это именно на таком интуитивном уровне."
      ]
    },
    {
      "cell_type": "markdown",
      "metadata": {
        "id": "SeRAp418r79B"
      },
      "source": [
        "\n",
        "На самом деле, наша система (1) дает даже больше.\n",
        "\n",
        "Давайте рассмотрим матрицу $A=\\begin{bmatrix}2&3\\\\-3&2\\\\2&5\\\\-2&-3\\\\3&5\\end{bmatrix}$. Видно, что несколько предполагаемых \"точек притяжения\" сгруппированы в первой четверти плоскости.\n",
        "\n",
        "Постройте векторное поле для уравнения (1), используя данную матрицу, и посмотрите, как наше уравнение справляется с такими сгруппированными точками."
      ]
    },
    {
      "cell_type": "code",
      "execution_count": null,
      "metadata": {
        "id": "TlXZ0pEjs_lR"
      },
      "outputs": [],
      "source": [
        "'''\n",
        "Векторное поле уравнения x' = A^T softmax(beta * A * x) - x\n",
        "A = [[2,3],[-3,2],[2,5], [-2,-3],[3,5]]\n",
        "beta = 5\n",
        "'''\n",
        "\n",
        "### Место для Вашего решения\n"
      ]
    },
    {
      "cell_type": "markdown",
      "metadata": {
        "id": "Q97ZQ0sJtE5_"
      },
      "source": [
        "Замечательно! Оказывается, что среди этих сгруппированных точек выделяется одна, которая «притягивает сильнее».\n"
      ]
    },
    {
      "cell_type": "markdown",
      "metadata": {
        "id": "9epXbk_5ttIJ"
      },
      "source": [
        "\n",
        "Возможно, Вам до сих пор не очень понятно, к чему все эти рассуждения и как они помогут нам с обработкой изображения. Давайте переложим рассмотренные выше идеи на датасет `MNIST`."
      ]
    },
    {
      "cell_type": "markdown",
      "metadata": {
        "id": "xc0Bo-spt108"
      },
      "source": [
        "#### Отношение к изображениям и цифрам"
      ]
    },
    {
      "cell_type": "markdown",
      "metadata": {
        "id": "wcMNSaUit8Ht"
      },
      "source": [
        "Вспомним, что картинка в компьютере представляется массивом размера `(height, width)`.\n",
        "\n",
        "Теперь представьте, что мы рассматриваем распрямленную$^*$ картинку, то есть каждый пиксель записан на новой строчке. Получившийся вектор имеет размер `(width*height,1)`.\n",
        "\n",
        "И этот вектор мы можем подставлять в наше уравнение (1). Решая это уравнение, получим какой-то вектор новой распрямленной картинки, который мы можем обратно привести к исходному размеру `(height, width)`.\n",
        "\n",
        "<sub>* Заметьте, что мы не теряем информацию о картинке, если помним изначальные размеры, так как в любой момент можем обратно собрать изображение по распрямленному.</sub>"
      ]
    },
    {
      "cell_type": "markdown",
      "metadata": {
        "id": "sgEo2QFm6vCp"
      },
      "source": [
        "Остается лишь вопрос в матрице $A$. Какую ее брать?\n",
        "\n",
        "И оказывается, что тут нам помогут наши «точки притяжения». Ведь если мы знаем на каком-то тренировочном наборе, как примерно выглядят цифры, то можем их положить в матрицу $A$. Таким образом, мы получим, что наши тренировочные картинки являются «точками притяжения» для бракованных. А значит любая бракованная, следуя по стрелочкам векторного поля$^*$, придет к одной из тренировочных картинок, тем самым восстановив цифру на изображении.\n",
        "\n",
        "То есть матрица $A$ будет выглядеть примерно\n",
        "$$\n",
        "A =\n",
        "\\begin{bmatrix}\n",
        "    \\text{тренировочная распрямленная картинка 1}\\\\\n",
        "    \\text{тренировочная распрямленная картинка 2}\\\\\n",
        "    \\vdots\\\\\n",
        "    \\text{тренировочная распрямленная картинка k}\\\\\n",
        "\\end{bmatrix}.\n",
        "$$\n",
        "\n",
        "<sub>* Стоит помнить, что теперь мы все манипуляции проворачиваем в пространстве размерности `width*height`. И там уже, конечно, под векторным полем понимается немного другое и изобразить это практически невозможно.</sub>"
      ]
    },
    {
      "cell_type": "markdown",
      "metadata": {
        "id": "VRrLKFEm-lwB"
      },
      "source": [
        "### Основная часть"
      ]
    },
    {
      "cell_type": "markdown",
      "metadata": {
        "id": "AivDwheVMkWy"
      },
      "source": [
        "#### Загрузка данных"
      ]
    },
    {
      "cell_type": "markdown",
      "metadata": {
        "id": "THwG0JZH-uDR"
      },
      "source": [
        "<table>\n",
        "  <tr>\n",
        "    <td style=\"width:40%\"><img src=https://external-content.duckduckgo.com/iu/?u=https%3A%2F%2Ftse1.mm.bing.net%2Fth%3Fid%3DOIP.HVapjsP3IhY1D-JsrfGN9gHaEo%26pid%3DApi&f=1&ipt=98ac0d905405b055fade0f342067785a1f2a3e3c9dab7a80c787fcb5627cd771&ipo=images width=200></td>\n",
        "    <td style=\"width:50%\"><center><p>Выборка из датасета производится случайным образом!<br>\n",
        "    Если Вы хотите работать с одними и теми же данными,<br>то сохраните файл <code>mnist.npz</code> к себе на компьютер <br>и каждый раз добавляйте его в Colab,<br>пользуясь кодом ниже.<br> Тогда данные будут читаться из него.</center></p></td>\n",
        "  </tr>\n",
        "</table>"
      ]
    },
    {
      "cell_type": "code",
      "execution_count": null,
      "metadata": {
        "id": "LcuPbeB6KjxF"
      },
      "outputs": [],
      "source": [
        "# @title Загрузка файла в Colab (Запускайте только если хотите добавить файл)\n",
        "\n",
        "from google.colab import files\n",
        "file =files.upload()"
      ]
    },
    {
      "cell_type": "code",
      "execution_count": null,
      "metadata": {
        "id": "1qcyzmZ9E5pw"
      },
      "outputs": [],
      "source": [
        "# @title Загрузка выборки из датасета (запустите ячейку, исходный код скрыт) { vertical-output: true, form-width: \"100%\", display-mode: \"form\" }\n",
        "\n",
        "import os\n",
        "import torchvision.datasets as datasets\n",
        "from random import sample\n",
        "\n",
        "def show_images(images):\n",
        "    cols = 5\n",
        "    rows = int(len(images)/cols) + 1\n",
        "    plt.figure(figsize=(10,10))\n",
        "    plt.tight_layout()\n",
        "    index = 1\n",
        "    for x in images:\n",
        "        image = x\n",
        "        plt.subplot(rows, cols, index)\n",
        "        plt.imshow(image, cmap=plt.cm.gray)\n",
        "        index += 1\n",
        "\n",
        "if not os.path.exists('/content/mnist.npz'):\n",
        "    mnist_trainset = datasets.MNIST(root='/content/MNIST', train=True, download=True)\n",
        "    train = [np.array(mnist_trainset[k][0]) for k in sample(range(len(mnist_trainset)), 5)]\n",
        "    test = [np.array(mnist_trainset[k][0]) for k in sample(range(len(mnist_trainset)), 3)]\n",
        "    np.savez('/content/mnist.npz', train=train, test=test)\n",
        "\n",
        "data = np.load(\"/content/mnist.npz\")\n",
        "training_img = data[\"train\"]\n",
        "training_img = np.asarray(training_img)\n",
        "corrupted_img = data[\"test\"]\n",
        "corrupted_img_true = data['test']\n",
        "for i, item in enumerate(corrupted_img):\n",
        "    corrupted_img[i][14:, :] = 0\n",
        "\n",
        "print(\"Training Images\")\n",
        "show_images(training_img)\n",
        "plt.show()\n",
        "\n",
        "print(\"Corrupted Images\")\n",
        "show_images(corrupted_img)\n",
        "plt.show()"
      ]
    },
    {
      "cell_type": "markdown",
      "metadata": {
        "id": "9blsa3IiMsO0"
      },
      "source": [
        "Теперь у нас есть два набора:\n",
        "- `training_img` — массив с изображениями, представленными в виде массивов $(28\\times 28)$,\n",
        "- `corrupted_img` — массив с бракованными изображениями, представленными в виде массивов $(28\\times 28)$."
      ]
    },
    {
      "cell_type": "markdown",
      "metadata": {
        "id": "9BvMXMbOrPDF"
      },
      "source": [
        "#### Обработка данных"
      ]
    },
    {
      "cell_type": "markdown",
      "metadata": {
        "id": "AVvnoXZRlRmT"
      },
      "source": [
        "Как мы выяснили ранее, для работы с изображениями нам необходимо их распрямить, то есть привести к вектору размера $(784 \\times 1)$.\n",
        "\n",
        "Запишите в переменные `training_img_flatten` и `corrupted_img_flatten` массивы распрямленных изображений соответствующих наборов `training_img` и  `corrupted_img`. Выведите получившиеся размеры массивов, используя [`numpy.shape`](https://numpy.org/doc/stable/reference/generated/numpy.shape.html).\n",
        "\n",
        "<sub>_Указание:_ воспользуйтесь функцией [`numpy.reshape`](https://numpy.org/doc/stable/reference/generated/numpy.reshape.html)</sub>"
      ]
    },
    {
      "cell_type": "code",
      "execution_count": null,
      "metadata": {
        "id": "91cfB3YPmY3W"
      },
      "outputs": [],
      "source": [
        "'''\n",
        "Распрямите изображения и запишите итоговые массивы в переменные training_img_flatten, corrupted_img_flatten.\n",
        "'''\n",
        "\n",
        "### Место для Вашего решения ###\n"
      ]
    },
    {
      "cell_type": "markdown",
      "metadata": {
        "id": "1I73LfjhrTSB"
      },
      "source": [
        "#### Обучение сети"
      ]
    },
    {
      "cell_type": "markdown",
      "metadata": {
        "id": "QXmq_OlKmYga"
      },
      "source": [
        "Основываясь на наших предположениях из интуитивного понимания принципа работы, заполните матрицу $A$. В этом и заключается обучение нашей сети."
      ]
    },
    {
      "cell_type": "code",
      "execution_count": null,
      "metadata": {
        "id": "L6rKhVkrqp3C"
      },
      "outputs": [],
      "source": [
        "'''\n",
        "Задайте матрицу весов A\n",
        "'''\n",
        "\n",
        "### Место для Вашего решения ###\n"
      ]
    },
    {
      "cell_type": "markdown",
      "metadata": {
        "id": "8QKDjDbosFaB"
      },
      "source": [
        "$\\beta$ зададим равной $10^{-5}$. Вы можете поизменять этот гиперпараметр и написать в выводе, что меняется, или почитать в открытых источниках."
      ]
    },
    {
      "cell_type": "code",
      "execution_count": null,
      "metadata": {
        "id": "V85E1FjEsEdt"
      },
      "outputs": [],
      "source": [
        "beta = 1e-5"
      ]
    },
    {
      "cell_type": "markdown",
      "metadata": {
        "id": "iFmjllLzr48s"
      },
      "source": [
        "#### Применение обученной сети = решение дифференциального уравнения"
      ]
    },
    {
      "cell_type": "markdown",
      "metadata": {
        "id": "mUDPNHTUteik"
      },
      "source": [
        "Получается, что применение нашей сети сводится к решению задачи Коши с уравнением (1) и начальным условием, равным бракованной картинке, которую мы хотим восстановить. Понятно, что решать ее в явном виде не имеет смысла (по-крайней мере, потому что это система из 784 уравнений с функцией $\\mathrm{softmax}$ внутри). Поэтому будем решать численно."
      ]
    },
    {
      "cell_type": "markdown",
      "metadata": {
        "id": "-E99Tm7tuFen"
      },
      "source": [
        "Воспользуйтесь функцией `Euler_method` из первого задания для решения заданной задачи Коши для каждой бракованной картинки с подставленными матрицей $A$ и скаляром $\\beta$.\n",
        "\n",
        "Получившиеся решения запишите в переменные `solution_i`, где $i$ — порядковый номер бракованной картинки (начинается с нуля)."
      ]
    },
    {
      "cell_type": "code",
      "execution_count": null,
      "metadata": {
        "id": "fZXwKcAjr3-Z"
      },
      "outputs": [],
      "source": [
        "'''\n",
        "Запишите решения задач Коши в переменные solution_i\n",
        "'''\n",
        "\n",
        "### Место для Вашего решения ###\n"
      ]
    },
    {
      "cell_type": "markdown",
      "metadata": {
        "id": "JCL-t_S9wf9Q"
      },
      "source": [
        "Выведите получившиеся восстановленные изображения бок о бок с исходными бракованными. Как Вы думаете, угадал ли компьютер с цифрой? Сделайте вывод почему."
      ]
    },
    {
      "cell_type": "code",
      "execution_count": null,
      "metadata": {
        "id": "5s6kKSnDwLqW"
      },
      "outputs": [],
      "source": [
        "'''\n",
        "Вывод изображений: бракованное | восстановленное\n",
        "'''\n",
        "### Место для Вашего решения ###\n",
        "\n"
      ]
    },
    {
      "cell_type": "markdown",
      "metadata": {
        "id": "uhl3IzXpigyv"
      },
      "source": [
        "#### Вывод"
      ]
    },
    {
      "cell_type": "markdown",
      "metadata": {
        "id": "GTbSCfJricnt"
      },
      "source": [
        "Сделайте выводы относительно того, насколько удачно сработала нейронная сеть. Порассуждайте, почему так произошло."
      ]
    },
    {
      "cell_type": "markdown",
      "metadata": {
        "id": "opI4_oe2xwwM"
      },
      "source": [
        "---\n",
        "> ❗ **Место для Вашего вывода** ❗\n",
        ">\n",
        "> *Мне кажется, что ...*\n",
        "---"
      ]
    },
    {
      "cell_type": "markdown",
      "metadata": {
        "id": "apHMgTApylpY"
      },
      "source": [
        "## Бонус! <sub>но все еще обязательный</sub>"
      ]
    },
    {
      "cell_type": "markdown",
      "metadata": {
        "id": "SUxbNvnBypYe"
      },
      "source": [
        "> Я прекрасно знаю, как Вы все любите лабораторные работы с покемонами еще с первого курса.\n",
        ">\n",
        "> Поэтому предлагаю свою версию работы про покемонов."
      ]
    },
    {
      "cell_type": "markdown",
      "metadata": {
        "id": "Ay5B8BjYzCAo"
      },
      "source": [
        "### Описание задачи"
      ]
    },
    {
      "cell_type": "markdown",
      "metadata": {
        "id": "SWkltyT5zNdP"
      },
      "source": [
        "Мне кажется, во всем, что связано с покемонами, есть эпизоды, когда по тени необходимо угадать имена покемонов. Именно это и предлагается сделать Вам в бонусном задании.\n",
        "\n",
        "И, конечно, было бы интересно заставить это делать Вас самих, но лучше попросим об этом волшебную машину с нейронной сетью Хопфилда."
      ]
    },
    {
      "cell_type": "markdown",
      "metadata": {
        "id": "RGrCnnFd1jUD"
      },
      "source": [
        "### Основная часть"
      ]
    },
    {
      "cell_type": "markdown",
      "metadata": {
        "id": "JaJU7qHP1ZMA"
      },
      "source": [
        "#### Загрузка данных"
      ]
    },
    {
      "cell_type": "markdown",
      "metadata": {
        "id": "-zjHqpm0gID9"
      },
      "source": [
        "<table>\n",
        "  <tr>\n",
        "    <td style=\"width:40%\"><img src=https://external-content.duckduckgo.com/iu/?u=https%3A%2F%2Ftse1.mm.bing.net%2Fth%3Fid%3DOIP.HVapjsP3IhY1D-JsrfGN9gHaEo%26pid%3DApi&f=1&ipt=98ac0d905405b055fade0f342067785a1f2a3e3c9dab7a80c787fcb5627cd771&ipo=images width=200></td>\n",
        "    <td style=\"width:50%\"><center><p>Картинка тени покемона каждый раз выбирается случайным образом!<br>\n",
        "    Если Вы хотите написать вывод по конкретному покемону,<br>то сохраните картинки тени и результата к себе на компьютер <br>и вставьте картинки в вывод.</center></p></td>\n",
        "  </tr>\n",
        "</table>"
      ]
    },
    {
      "cell_type": "code",
      "execution_count": null,
      "metadata": {
        "id": "O4F-KB1W01pB"
      },
      "outputs": [],
      "source": [
        "# @title Загрузка покемонов (запустите ячейку, исходный код скрыт) { vertical-output: true, form-width: \"100%\", display-mode: \"form\" }\n",
        "import matplotlib.image as mpimg\n",
        "from urllib.request import urlretrieve\n",
        "from random import choice, sample\n",
        "\n",
        "background = mpimg.imread(urlretrieve(\"https://d31xsmoz1lk3y3.cloudfront.net/big/1582671.jpg?v=1558141242\", \"bg.jpg\")[0])\n",
        "\n",
        "urls = [\n",
        "    f'https://assets.pokemon.com/assets/cms2/img/pokedex/full/0{i}.png' for i in sample(range(10, 100), 5)\n",
        "]\n",
        "\n",
        "training_img = []\n",
        "shadow_img = []\n",
        "for url in urls:\n",
        "    file_name, _ = urlretrieve(url, \"test.png\")\n",
        "    img = mpimg.imread(file_name)\n",
        "    xx = np.linspace(0, img.shape[0] - 1, 80).astype(int)\n",
        "    yy = np.linspace(0, img.shape[1] - 1, 80).astype(int)\n",
        "    resized_img = img[xx, :, :][:, yy, :]\n",
        "    query_img = np.ones(resized_img.shape)\n",
        "    query_img[:, :, 0] = (resized_img[..., :3].max(axis=2) < 0.01) * 0.0\n",
        "    query_img[:, :, 1] = (resized_img[..., :3].max(axis=2) < 0.01) * 0.0\n",
        "    query_img[:, :, 2] = (resized_img[..., :3].max(axis=2) < 0.01) * 0.0\n",
        "    query_img[:, :, 3] = resized_img[:, :, 3]\n",
        "    training_img.append(resized_img)\n",
        "    shadow_img.append(query_img)\n",
        "\n",
        "training_img = np.asarray(training_img)\n",
        "shadow_img = choice(shadow_img)\n",
        "fig = plt.figure(frameon=False)\n",
        "plt.imshow(shadow_img, origin='lower', extent=[200, 200+4*shadow_img.shape[0],50,50+4*shadow_img.shape[1]])\n",
        "plt.imshow(background,alpha=0.7)\n",
        "plt.axis('off')\n",
        "plt.axis(\"tight\")\n",
        "plt.axis(\"image\")\n",
        "print('\\033[1m' + 'Это что за покемон?' + '\\033[0m')"
      ]
    },
    {
      "cell_type": "markdown",
      "metadata": {
        "id": "zhmgQ6qg2FwI"
      },
      "source": [
        "Теперь в у нас есть:\n",
        "- `training_img` — массив с цветными изображениями, представленными в виде массивов,\n",
        "- `shadow_img` — тень какого-то покемона."
      ]
    },
    {
      "cell_type": "markdown",
      "metadata": {
        "id": "pvhxxRMa1ub9"
      },
      "source": [
        "#### Обработка данных"
      ]
    },
    {
      "cell_type": "markdown",
      "metadata": {
        "id": "T-fQ2FuN1WHN"
      },
      "source": [
        "Аналогично случаю с изображениями цифр распрямите изображения в массивы."
      ]
    },
    {
      "cell_type": "code",
      "execution_count": null,
      "metadata": {
        "id": "IYsEvwNT1UeX"
      },
      "outputs": [],
      "source": [
        "'''\n",
        "Распрямите изображения и запишите итоговые массивы в переменные training_img_flatten, shadow_img_flatten.\n",
        "'''\n",
        "\n",
        "### Место для Вашего решения ###\n"
      ]
    },
    {
      "cell_type": "markdown",
      "metadata": {
        "id": "wVt2mE0O3crq"
      },
      "source": [
        "#### Обучение сети"
      ]
    },
    {
      "cell_type": "markdown",
      "metadata": {
        "id": "6wWxtGH83j8l"
      },
      "source": [
        "Обучите сеть, задав матрицу $A$."
      ]
    },
    {
      "cell_type": "code",
      "execution_count": null,
      "metadata": {
        "id": "4BsoKoHd3K4C"
      },
      "outputs": [],
      "source": [
        "'''\n",
        "Задайте матрицу весов A\n",
        "'''\n",
        "\n",
        "### Место для Вашего решения ###\n"
      ]
    },
    {
      "cell_type": "code",
      "execution_count": null,
      "metadata": {
        "id": "Nk29Zb693q22"
      },
      "outputs": [],
      "source": [
        "beta = 1e-2"
      ]
    },
    {
      "cell_type": "markdown",
      "metadata": {
        "id": "4R4vEN8l3qi0"
      },
      "source": [
        "#### Применение обученной сети"
      ]
    },
    {
      "cell_type": "markdown",
      "metadata": {
        "id": "MOweNf1k3xwf"
      },
      "source": [
        "Примените обученную сеть, чтобы определить* покемона по его тени.\n",
        "\n",
        "На этот раз воспользуйтесь написанной в первом задании функцией `Runge_Kutta_method`.\n",
        "\n",
        "&nbsp;\n",
        "&nbsp;\n",
        "\n",
        "_* Может так оказаться, что результат будет неузнаваем. Тогда Вам необходимо будет поизменять отрезок, на котором решается уравнение, или гиперпараметр `beta`. Обычно что-нибудь из этого способно помочь._"
      ]
    },
    {
      "cell_type": "code",
      "execution_count": null,
      "metadata": {
        "id": "5B7YyfWx36Eh"
      },
      "outputs": [],
      "source": [
        "'''\n",
        "Запишите решения задач Коши в переменные solution\n",
        "'''\n",
        "\n",
        "### Место для Вашего решения ###\n"
      ]
    },
    {
      "cell_type": "markdown",
      "metadata": {
        "id": "HPnxEiB45bzM"
      },
      "source": [
        "Выведите результат бок о бок с тенью."
      ]
    },
    {
      "cell_type": "code",
      "execution_count": null,
      "metadata": {
        "id": "xC6NkPNP4KRI"
      },
      "outputs": [],
      "source": [
        "'''\n",
        "Вывод изображений: тень | покемон\n",
        "'''\n",
        "\n",
        "### Место для Вашего решения ###\n"
      ]
    },
    {
      "cell_type": "markdown",
      "metadata": {
        "id": "Tz0rF2Gpikrf"
      },
      "source": [
        "#### Вывод"
      ]
    },
    {
      "cell_type": "markdown",
      "metadata": {
        "id": "t1RiA5QHiM5A"
      },
      "source": [
        "Сделайте выводы относительно того, насколько удачно сработала нейронная сеть. Порассуждайте, почему так произошло."
      ]
    },
    {
      "cell_type": "markdown",
      "metadata": {
        "id": "vlSO5T0gh-In"
      },
      "source": [
        "---\n",
        "> ❗ **Место для Вашего вывода** ❗\n",
        ">\n",
        "> *Мне кажется, что ...*\n",
        "---"
      ]
    },
    {
      "cell_type": "markdown",
      "metadata": {
        "id": "w3tllEk_iFgM"
      },
      "source": [
        "#### Самая обязательная часть"
      ]
    },
    {
      "cell_type": "markdown",
      "metadata": {
        "id": "T6temovd9pwR"
      },
      "source": [
        "Ну и, естественно, Вам необходимо узнать имя выпавшего покемона и его способности 😀\n",
        "\n",
        "~~Ведь в этом суть лабораторных по программированию, разве нет?!~~"
      ]
    },
    {
      "cell_type": "markdown",
      "metadata": {
        "id": "Qxtz8PMl93vi"
      },
      "source": [
        "---\n",
        "> ❗ **Место для имени и способностей покемона** ❗\n",
        ">\n",
        "> *Мне кажется, что это ...*\n",
        "---"
      ]
    }
  ],
  "metadata": {
    "colab": {
      "collapsed_sections": [
        "fAGi39ux-eL4"
      ],
      "provenance": [],
      "toc_visible": true
    },
    "kernelspec": {
      "display_name": "Python 3",
      "name": "python3"
    },
    "language_info": {
      "name": "python",
      "version": "2.7.16"
    }
  },
  "nbformat": 4,
  "nbformat_minor": 0
}
